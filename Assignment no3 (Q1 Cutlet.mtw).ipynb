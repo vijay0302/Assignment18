{
 "cells": [
  {
   "cell_type": "code",
   "execution_count": 3,
   "id": "9807fa6f",
   "metadata": {},
   "outputs": [],
   "source": [
    "# import some important lab\n",
    "import numpy as np\n",
    "from scipy import stats\n",
    "import pandas as pd"
   ]
  },
  {
   "cell_type": "code",
   "execution_count": 4,
   "id": "12423c20",
   "metadata": {},
   "outputs": [],
   "source": [
    "df=pd.read_csv(\"C:/Users/Vijay Rathod/Downloads/Cutlets.csv\")\n",
    "Unit_A= df[['Unit A']]\n",
    "Unit_B=df[['Unit B']]"
   ]
  },
  {
   "cell_type": "code",
   "execution_count": null,
   "id": "e91dbcf2",
   "metadata": {},
   "outputs": [],
   "source": [
    "# we want to check if there is any differance between these process\n",
    "# so for that our H0= there is no differance(UnitA= UnitB)\n",
    "#                 H1= there is differance(UniatA=/ UnitB) "
   ]
  },
  {
   "cell_type": "code",
   "execution_count": 5,
   "id": "1320efb1",
   "metadata": {},
   "outputs": [
    {
     "data": {
      "text/plain": [
       "Ttest_indResult(statistic=array([0.72286887]), pvalue=array([0.47223947]))"
      ]
     },
     "execution_count": 5,
     "metadata": {},
     "output_type": "execute_result"
    }
   ],
   "source": [
    "# 2-sample 2-tail ttest:   stats.ttest_ind(array1,array2)     \n",
    "p=stats.ttest_ind(Unit_A,Unit_B)\n",
    "p"
   ]
  },
  {
   "cell_type": "code",
   "execution_count": 7,
   "id": "ff2e9280",
   "metadata": {},
   "outputs": [],
   "source": [
    "p_value=p[1]\n",
    "alpha=0.05"
   ]
  },
  {
   "cell_type": "code",
   "execution_count": 8,
   "id": "b08750f0",
   "metadata": {},
   "outputs": [
    {
     "name": "stdout",
     "output_type": "stream",
     "text": [
      "Null hypothesis holds true\n"
     ]
    }
   ],
   "source": [
    "# compare p_value with α = 0.05 (At 5% significance level)\n",
    "# p_value > α \n",
    "if p_value<=alpha:\n",
    "     print(\"Reject Null hypothesis\")\n",
    "else:\n",
    "    print(\"Null hypothesis holds true\")\n"
   ]
  },
  {
   "cell_type": "code",
   "execution_count": null,
   "id": "3b4f5d67",
   "metadata": {},
   "outputs": [],
   "source": [
    "so we accepet H0(there  is  no differance in diameater ) at  5% significance level"
   ]
  },
  {
   "cell_type": "code",
   "execution_count": 23,
   "id": "4169a7e7",
   "metadata": {},
   "outputs": [],
   "source": []
  },
  {
   "cell_type": "code",
   "execution_count": null,
   "id": "b42c5b0d",
   "metadata": {},
   "outputs": [],
   "source": []
  }
 ],
 "metadata": {
  "kernelspec": {
   "display_name": "Python 3 (ipykernel)",
   "language": "python",
   "name": "python3"
  },
  "language_info": {
   "codemirror_mode": {
    "name": "ipython",
    "version": 3
   },
   "file_extension": ".py",
   "mimetype": "text/x-python",
   "name": "python",
   "nbconvert_exporter": "python",
   "pygments_lexer": "ipython3",
   "version": "3.9.7"
  }
 },
 "nbformat": 4,
 "nbformat_minor": 5
}
